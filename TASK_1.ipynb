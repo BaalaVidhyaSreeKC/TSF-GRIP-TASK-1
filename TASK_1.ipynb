{
  "nbformat": 4,
  "nbformat_minor": 0,
  "metadata": {
    "colab": {
      "name": "TASK_1.ipynb",
      "provenance": [],
      "collapsed_sections": []
    },
    "kernelspec": {
      "name": "python3",
      "display_name": "Python 3"
    }
  },
  "cells": [
    {
      "cell_type": "markdown",
      "metadata": {
        "id": "l_LulNCC8z96"
      },
      "source": [
        "### ***Simple Linear Regression***"
      ]
    },
    {
      "cell_type": "markdown",
      "metadata": {
        "id": "xpXdowrE9DxW"
      },
      "source": [
        "### **Importing the libraries**"
      ]
    },
    {
      "cell_type": "markdown",
      "metadata": {
        "id": "xE59806ETykY"
      },
      "source": [
        "Import required libraries. Here we import the following libraries:\r\n",
        "*   pandas - to import data\r\n",
        "*   sklearn - scikit learn is an ML library (here it is used for Linear regression)\r\n",
        "*   matplotlib - for data and result visualizations as plots"
      ]
    },
    {
      "cell_type": "code",
      "metadata": {
        "id": "yUAGZmz5_8kM"
      },
      "source": [
        "import pandas as pd\r\n",
        "import numpy as np\r\n",
        "import matplotlib.pyplot as plt\r\n",
        "\r\n",
        "from sklearn.model_selection import train_test_split as TTS\r\n",
        "\r\n",
        "from sklearn.linear_model import LinearRegression as LR"
      ],
      "execution_count": 1,
      "outputs": []
    },
    {
      "cell_type": "markdown",
      "metadata": {
        "id": "6JhpWJi59J1p"
      },
      "source": [
        "### **Importing the dataset**"
      ]
    },
    {
      "cell_type": "markdown",
      "metadata": {
        "id": "LsTxRRV4VEyL"
      },
      "source": [
        "The dataset is imported from the link provided.\r\n",
        "\r\n",
        "Then, the dataset is split into Independent Variable (X) and Dependent Varible (y).\r\n",
        "\r\n",
        "***Here, X - Hours, y - Scores (in %)***"
      ]
    },
    {
      "cell_type": "code",
      "metadata": {
        "id": "qaP0r55ZAgHn"
      },
      "source": [
        "std_data = pd.read_csv(r\"http://bit.ly/w-data\", sep = ',')\r\n",
        "X = std_data[\"Hours\"]\r\n",
        "y = std_data[\"Scores\"]\r\n",
        "\r\n",
        "X = np.array(X).reshape((-1, 1))\r\n",
        "y = np.array(y)"
      ],
      "execution_count": 2,
      "outputs": []
    },
    {
      "cell_type": "markdown",
      "metadata": {
        "id": "AyhQaTwP9RzG"
      },
      "source": [
        "### **Splitting the dataset into the Training set and Test set**"
      ]
    },
    {
      "cell_type": "markdown",
      "metadata": {
        "id": "yAdz-MQNV3im"
      },
      "source": [
        "The data is split into Training set and Test Set with the help of 'train_test_split' function of 'sklearn model selection'\r\n",
        "\r\n",
        "***NOTE*** *: Always remember that Training set Size > Test set Size !!!!*\r\n",
        "\r\n",
        "Here, X and Y are split into their respective training and test based on the given 'test_size'."
      ]
    },
    {
      "cell_type": "code",
      "metadata": {
        "id": "Dn2J0Su8AgC8"
      },
      "source": [
        "X_train, X_test, y_train, y_test = TTS(X, y, test_size = 0.25, random_state = 0)"
      ],
      "execution_count": 3,
      "outputs": []
    },
    {
      "cell_type": "markdown",
      "metadata": {
        "id": "ZijQwFMQ9itx"
      },
      "source": [
        "### **Simple Linear Regression model training on the Training set**"
      ]
    },
    {
      "cell_type": "markdown",
      "metadata": {
        "id": "Nox_U-aRYzWm"
      },
      "source": [
        "To train the training set, we use **SIMPLE LINEAR REGRESSION MODEL** since the data contains only 2 variables, X and y for which we can study and summarize their relationship.\r\n",
        "\r\n",
        "Here, an instance for the model is created using which we fit the model to the training set. "
      ]
    },
    {
      "cell_type": "code",
      "metadata": {
        "colab": {
          "base_uri": "https://localhost:8080/"
        },
        "id": "ufdY28AiAgBj",
        "outputId": "ed79d95e-99c0-40d5-9cb0-f982ef1a45e7"
      },
      "source": [
        "regressor = LR()\r\n",
        "regressor.fit(X_train, y_train)"
      ],
      "execution_count": 4,
      "outputs": [
        {
          "output_type": "execute_result",
          "data": {
            "text/plain": [
              "LinearRegression(copy_X=True, fit_intercept=True, n_jobs=None, normalize=False)"
            ]
          },
          "metadata": {
            "tags": []
          },
          "execution_count": 4
        }
      ]
    },
    {
      "cell_type": "code",
      "metadata": {
        "colab": {
          "base_uri": "https://localhost:8080/"
        },
        "id": "-eCODre03vZz",
        "outputId": "42fdf6a7-edda-4742-cbfe-ddd3f52c5bb1"
      },
      "source": [
        "r_sq = regressor.score(X_train, y_train)\r\n",
        "print(\"Coeffecient of Determination : \", r_sq)\r\n",
        "print(\"Intercept                    : \", regressor.intercept_)\r\n",
        "print('Slope                        : ', ''.join(map(str, regressor.coef_)))"
      ],
      "execution_count": 5,
      "outputs": [
        {
          "output_type": "stream",
          "text": [
            "Coeffecient of Determination :  0.9484509249326872\n",
            "Intercept                    :  1.9322042531516601\n",
            "Slope                        :  9.941678339488094\n"
          ],
          "name": "stdout"
        }
      ]
    },
    {
      "cell_type": "markdown",
      "metadata": {
        "id": "O_lAIYRcM9QM"
      },
      "source": [
        "(Here, ''.join(map()) is used to remove the square brackets; since join is a method from string, we convert the output to string and then print it)."
      ]
    },
    {
      "cell_type": "markdown",
      "metadata": {
        "id": "wa2T1Lq89o5H"
      },
      "source": [
        "### **Predicting the Test set results**"
      ]
    },
    {
      "cell_type": "markdown",
      "metadata": {
        "id": "gjvhz1ETbgOB"
      },
      "source": [
        "With the help of the instance created for the model, we can predict the results for the test set or any new X - value given (here, we predict score percentage for the given study hours, X = 9.25)."
      ]
    },
    {
      "cell_type": "code",
      "metadata": {
        "colab": {
          "base_uri": "https://localhost:8080/"
        },
        "id": "4bQAylM5Af9O",
        "outputId": "b52361e4-b559-4386-ef65-7641edf30c71"
      },
      "source": [
        "y_predict = regressor.predict(X_test)\r\n",
        "print('The Predicted Score for student who studies 9.25 hrs/day :', ''.join(map(str, regressor.predict([[9.25]]))))"
      ],
      "execution_count": 6,
      "outputs": [
        {
          "output_type": "stream",
          "text": [
            "The Predicted Score for student who studies 9.25 hrs/day : 93.89272889341652\n"
          ],
          "name": "stdout"
        }
      ]
    },
    {
      "cell_type": "markdown",
      "metadata": {
        "id": "QnV1y8Bxg5ch"
      },
      "source": [
        "With the help of plots, we can visualize the relationship between Study Hours (X) and Scores in Percentage (y).\r\n",
        "\r\n",
        "Here, we can Scatter Plot the Actual Datapoints and plot the Regression line of Simple Linear Regression model.\r\n"
      ]
    },
    {
      "cell_type": "markdown",
      "metadata": {
        "id": "-zSoMZ-P9v8t"
      },
      "source": [
        "### **Visualizing the Training set results**"
      ]
    },
    {
      "cell_type": "code",
      "metadata": {
        "colab": {
          "base_uri": "https://localhost:8080/",
          "height": 295
        },
        "id": "vVsHc9GbFeb9",
        "outputId": "bd0bc939-7e80-4fa1-f8d9-e41e3cbbb023"
      },
      "source": [
        "plt.scatter(X_train, y_train, color = 'red', edgecolors = 'black')\r\n",
        "plt.plot(X_train, regressor.predict(X_train), color = 'green')\r\n",
        "plt.title('Percentage of Student based on Study Hours (Training set)')\r\n",
        "plt.xlabel('Study Hours')\r\n",
        "plt.ylabel('Percentage')\r\n",
        "plt.legend([\"Linear Regression Line\", \"Actual Datapoints\"], loc = \"upper left\")\r\n",
        "plt.show()"
      ],
      "execution_count": 7,
      "outputs": [
        {
          "output_type": "display_data",
          "data": {
            "image/png": "[encoded data removed]",
            "text/plain": [
              "<Figure size 432x288 with 1 Axes>"
            ]
          },
          "metadata": {
            "tags": [],
            "needs_background": "light"
          }
        }
      ]
    },
    {
      "cell_type": "markdown",
      "metadata": {
        "id": "EUX1Vhsv97ZT"
      },
      "source": [
        "### **Visualizing the Test set results**"
      ]
    },
    {
      "cell_type": "code",
      "metadata": {
        "colab": {
          "base_uri": "https://localhost:8080/",
          "height": 295
        },
        "id": "PByQyySlDUSX",
        "outputId": "ece306b8-aca7-4926-ec28-b86ebbaca891"
      },
      "source": [
        "plt.scatter(X_test, y_test, color = 'orange')\r\n",
        "plt.plot(X_train, regressor.predict(X_train), color = 'blue')\r\n",
        "plt.title('Percentage of Student based on Study Hours (Test set)')\r\n",
        "plt.xlabel('Study Hours')\r\n",
        "plt.ylabel('Percentage')\r\n",
        "plt.legend([\"Linear Regression Line\", \"Actual Datapoints\"], loc = \"upper left\")\r\n",
        "plt.show()"
      ],
      "execution_count": 8,
      "outputs": [
        {
          "output_type": "display_data",
          "data": {
            "image/png": "[encoded data removed]",
            "text/plain": [
              "<Figure size 432x288 with 1 Axes>"
            ]
          },
          "metadata": {
            "tags": [],
            "needs_background": "light"
          }
        }
      ]
    },
    {
      "cell_type": "markdown",
      "metadata": {
        "id": "S4H8ncuW1v0i"
      },
      "source": [
        "From both the Training and Test set Visualizations, we can see that most of the datapoints are very close to the regression line, meaning, the actual values have slight residuals while vey few data points are farther from the regression line indicating they have more residual values."
      ]
    }
  ]
}